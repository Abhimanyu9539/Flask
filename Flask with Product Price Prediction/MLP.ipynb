{
 "cells": [
  {
   "cell_type": "code",
   "execution_count": 1,
   "id": "f336fc3d-8ae4-4937-9c1e-c40b3bc12e8b",
   "metadata": {},
   "outputs": [],
   "source": [
    "%matplotlib inline\n",
    "import warnings\n",
    "warnings.filterwarnings(\"ignore\")\n",
    "import gc\n",
    "\n",
    "import pandas as pd\n",
    "import numpy as np\n",
    "import string\n",
    "import matplotlib.pyplot as plt\n",
    "from wordcloud import WordCloud\n",
    "import seaborn as sns\n",
    "import math\n",
    "import lightgbm as lgb\n",
    "from tqdm.notebook import tqdm\n",
    "tqdm.pandas()\n",
    "\n",
    "import xgboost\n",
    "from sklearn.feature_extraction.text import CountVectorizer\n",
    "from sklearn.feature_extraction.text import TfidfVectorizer\n",
    "import nltk\n",
    "from nltk.stem import WordNetLemmatizer\n",
    "from nltk import word_tokenize\n",
    "from nltk.corpus import wordnet\n",
    "from nltk.stem import PorterStemmer \n",
    "from nltk.tokenize import word_tokenize\n",
    "\n",
    "\n",
    "from sklearn.model_selection import train_test_split\n",
    "import scipy\n",
    "from scipy.sparse import hstack\n",
    "\n",
    "from sklearn.metrics import mean_squared_log_error\n",
    "import pickle\n",
    "import regex as re\n",
    "import os"
   ]
  },
  {
   "cell_type": "markdown",
   "id": "b1f54543-c3f3-4e61-89b0-4603ab40a63f",
   "metadata": {},
   "source": [
    "### Load the data"
   ]
  },
  {
   "cell_type": "code",
   "execution_count": 2,
   "id": "0ae72c33-02b8-4e90-bcfe-8dd3ca0c0294",
   "metadata": {},
   "outputs": [
    {
     "data": {
      "text/html": [
       "<div>\n",
       "<style scoped>\n",
       "    .dataframe tbody tr th:only-of-type {\n",
       "        vertical-align: middle;\n",
       "    }\n",
       "\n",
       "    .dataframe tbody tr th {\n",
       "        vertical-align: top;\n",
       "    }\n",
       "\n",
       "    .dataframe thead th {\n",
       "        text-align: right;\n",
       "    }\n",
       "</style>\n",
       "<table border=\"1\" class=\"dataframe\">\n",
       "  <thead>\n",
       "    <tr style=\"text-align: right;\">\n",
       "      <th></th>\n",
       "      <th>train_id</th>\n",
       "      <th>name</th>\n",
       "      <th>item_condition_id</th>\n",
       "      <th>category_name</th>\n",
       "      <th>brand_name</th>\n",
       "      <th>price</th>\n",
       "      <th>shipping</th>\n",
       "      <th>item_description</th>\n",
       "    </tr>\n",
       "  </thead>\n",
       "  <tbody>\n",
       "    <tr>\n",
       "      <th>0</th>\n",
       "      <td>0</td>\n",
       "      <td>MLB Cincinnati Reds T Shirt Size XL</td>\n",
       "      <td>3</td>\n",
       "      <td>Men/Tops/T-shirts</td>\n",
       "      <td>NaN</td>\n",
       "      <td>10.0</td>\n",
       "      <td>1</td>\n",
       "      <td>No description yet</td>\n",
       "    </tr>\n",
       "    <tr>\n",
       "      <th>1</th>\n",
       "      <td>1</td>\n",
       "      <td>Razer BlackWidow Chroma Keyboard</td>\n",
       "      <td>3</td>\n",
       "      <td>Electronics/Computers &amp; Tablets/Components &amp; P...</td>\n",
       "      <td>Razer</td>\n",
       "      <td>52.0</td>\n",
       "      <td>0</td>\n",
       "      <td>This keyboard is in great condition and works ...</td>\n",
       "    </tr>\n",
       "    <tr>\n",
       "      <th>2</th>\n",
       "      <td>2</td>\n",
       "      <td>AVA-VIV Blouse</td>\n",
       "      <td>1</td>\n",
       "      <td>Women/Tops &amp; Blouses/Blouse</td>\n",
       "      <td>Target</td>\n",
       "      <td>10.0</td>\n",
       "      <td>1</td>\n",
       "      <td>Adorable top with a hint of lace and a key hol...</td>\n",
       "    </tr>\n",
       "    <tr>\n",
       "      <th>3</th>\n",
       "      <td>3</td>\n",
       "      <td>Leather Horse Statues</td>\n",
       "      <td>1</td>\n",
       "      <td>Home/Home Décor/Home Décor Accents</td>\n",
       "      <td>NaN</td>\n",
       "      <td>35.0</td>\n",
       "      <td>1</td>\n",
       "      <td>New with tags. Leather horses. Retail for [rm]...</td>\n",
       "    </tr>\n",
       "    <tr>\n",
       "      <th>4</th>\n",
       "      <td>4</td>\n",
       "      <td>24K GOLD plated rose</td>\n",
       "      <td>1</td>\n",
       "      <td>Women/Jewelry/Necklaces</td>\n",
       "      <td>NaN</td>\n",
       "      <td>44.0</td>\n",
       "      <td>0</td>\n",
       "      <td>Complete with certificate of authenticity</td>\n",
       "    </tr>\n",
       "  </tbody>\n",
       "</table>\n",
       "</div>"
      ],
      "text/plain": [
       "   train_id                                 name  item_condition_id  \\\n",
       "0         0  MLB Cincinnati Reds T Shirt Size XL                  3   \n",
       "1         1     Razer BlackWidow Chroma Keyboard                  3   \n",
       "2         2                       AVA-VIV Blouse                  1   \n",
       "3         3                Leather Horse Statues                  1   \n",
       "4         4                 24K GOLD plated rose                  1   \n",
       "\n",
       "                                       category_name brand_name  price  \\\n",
       "0                                  Men/Tops/T-shirts        NaN   10.0   \n",
       "1  Electronics/Computers & Tablets/Components & P...      Razer   52.0   \n",
       "2                        Women/Tops & Blouses/Blouse     Target   10.0   \n",
       "3                 Home/Home Décor/Home Décor Accents        NaN   35.0   \n",
       "4                            Women/Jewelry/Necklaces        NaN   44.0   \n",
       "\n",
       "   shipping                                   item_description  \n",
       "0         1                                 No description yet  \n",
       "1         0  This keyboard is in great condition and works ...  \n",
       "2         1  Adorable top with a hint of lace and a key hol...  \n",
       "3         1  New with tags. Leather horses. Retail for [rm]...  \n",
       "4         0          Complete with certificate of authenticity  "
      ]
     },
     "execution_count": 2,
     "metadata": {},
     "output_type": "execute_result"
    }
   ],
   "source": [
    "\n",
    "import pandas as pd\n",
    "\n",
    "train_df = pd.read_csv('Dataset/train.tsv', sep='\\t')\n",
    "\n",
    "# Price range should be 5 - 2000, https://www.mercari.com/us/help_center/article/69\n",
    "train_df = train_df[train_df['price']>=5]  # Removing the prodicts with prices less than 5\n",
    "train_df = train_df[train_df['price']<=2000]  # Removing the prodicts with prices more than 2000\n",
    "train_df.head()"
   ]
  },
  {
   "cell_type": "markdown",
   "id": "a40a9585-e672-4edf-a67a-78615abc0929",
   "metadata": {},
   "source": [
    "### Adding log price column"
   ]
  },
  {
   "cell_type": "code",
   "execution_count": 3,
   "id": "faa7feed-6172-45d9-aad9-247fac8ec04f",
   "metadata": {},
   "outputs": [
    {
     "data": {
      "text/plain": [
       "<Axes: xlabel='log_price', ylabel='Density'>"
      ]
     },
     "execution_count": 3,
     "metadata": {},
     "output_type": "execute_result"
    },
    {
     "data": {
      "image/png": "[encoded data removed]",
      "text/plain": [
       "<Figure size 1200x1000 with 1 Axes>"
      ]
     },
     "metadata": {},
     "output_type": "display_data"
    }
   ],
   "source": [
    "from scipy import stats\n",
    "\n",
    "train_df['log_price'] = np.log(train_df['price'].values)\n",
    "\n",
    "plt.figure(figsize=(12,10))\n",
    "plt.subplot(211)\n",
    "sns.distplot(train_df['log_price'])"
   ]
  },
  {
   "cell_type": "markdown",
   "id": "5f57635c-58df-406a-85af-46824ca2f23a",
   "metadata": {},
   "source": [
    "### Train Test Split"
   ]
  },
  {
   "cell_type": "code",
   "execution_count": 4,
   "id": "672ec1b7-02a8-4d43-961c-72386f1bdf83",
   "metadata": {},
   "outputs": [],
   "source": [
    "X = train_df.drop(['train_id','log_price','price'], axis=1)\n",
    "y = train_df['log_price']\n",
    "\n",
    "X_train, X_test, y_train, y_test = train_test_split(X, y, test_size=0.20, random_state=42)\n",
    "#del X, y, train_df"
   ]
  },
  {
   "cell_type": "code",
   "execution_count": 5,
   "id": "0848e05b-6e20-484f-be0f-57a7a0ab4799",
   "metadata": {},
   "outputs": [
    {
     "name": "stdout",
     "output_type": "stream",
     "text": [
      "(1157452, 6)\n",
      "(1157452,)\n",
      "(289364, 6)\n",
      "(289364,)\n"
     ]
    }
   ],
   "source": [
    "print(X_train.shape)\n",
    "print(y_train.shape)\n",
    "print(X_test.shape)\n",
    "print(y_test.shape)"
   ]
  },
  {
   "cell_type": "markdown",
   "id": "ebcdc5d9-3635-40fe-9460-41668a62af7d",
   "metadata": {},
   "source": [
    "### Feature Engineering\n",
    "\n",
    "#### 1. Filling missing values"
   ]
  },
  {
   "cell_type": "code",
   "execution_count": 6,
   "id": "9c47eef2-b8f8-4cc2-b68d-41e1b2ff51bf",
   "metadata": {},
   "outputs": [],
   "source": [
    "def fill_missing_values(df):\n",
    "    \"\"\"\n",
    "    Description:\n",
    "    Filling null values in all columns.\n",
    "\n",
    "    Input: Dataframe with null values\n",
    "    Output: Dataframe with no null values\n",
    "    \"\"\"\n",
    "    df['name'].fillna('unk_name', inplace=True)\n",
    "    df['category_name'].fillna('unk_cat', inplace=True)\n",
    "    df['brand_name'].fillna('unk_brand', inplace=True)\n",
    "    df['item_description'].fillna('unk_descr', inplace=True)\n",
    "    return df"
   ]
  },
  {
   "cell_type": "markdown",
   "id": "5d27fbc6-9c6e-491a-96aa-c99ade3e0710",
   "metadata": {},
   "source": [
    "#### 2. Text Pre-processing"
   ]
  },
  {
   "cell_type": "code",
   "execution_count": 7,
   "id": "739c9392-6d54-4f57-b26a-0eab9d2e0bc3",
   "metadata": {},
   "outputs": [],
   "source": [
    "import re\n",
    "import string\n",
    "\n",
    "def decontract_text(phrase):\n",
    "    \"\"\"\n",
    "    This utility funciton will be used as a part of preprocessing the text.\n",
    "    It will expand the contracted words. For eg: won't -> will not, I'm -> I am.\n",
    "    \"\"\"\n",
    "    phrase = str(phrase)\n",
    "    phrase = re.sub(r\"n\\'t\", \" not\", phrase)\n",
    "    phrase = re.sub(r\"\\'re\", \" are\", phrase)\n",
    "    phrase = re.sub(r\"\\'s\", \" is\", phrase)\n",
    "    phrase = re.sub(r\"\\'d\", \" would\", phrase)\n",
    "    phrase = re.sub(r\"\\'ll\", \" will\", phrase)\n",
    "    phrase = re.sub(r\"\\'t\", \" not\", phrase)\n",
    "    phrase = re.sub(r\"\\'ve\", \" have\", phrase)\n",
    "    phrase = re.sub(r\"\\'m\", \" am\", phrase)\n",
    "    return phrase\n",
    "\n",
    "def stem_sentence(sentence):\n",
    "    ps = PorterStemmer()\n",
    "    words = word_tokenize(sentence)\n",
    "    root = []\n",
    "    for w in words: \n",
    "        root.append(ps.stem(w))\n",
    "    return \" \".join(root)\n",
    "\n",
    "def preprocess_descriptive_text_column(sentance):\n",
    "    \"\"\"\n",
    "    Description:\n",
    "    This function will process the text data.\n",
    "    This function will perform decontracting words, removing stop words, removing special characters and then apply stemming on the words in the sentence.\n",
    "\n",
    "    Input: original sentence\n",
    "    Output: processed sentence\n",
    "    \"\"\"\n",
    "    # https://gist.github.com/sebleier/554280\n",
    "    # we are removing the negative words from the stop words list: 'no', 'nor', 'not', 'shouldn't, won't, etc.\n",
    "    stopwords= ['i', 'me', 'my', 'myself', 'we', 'our', 'ours', 'ourselves', 'you', \"you're\", \"you've\",\\\n",
    "                \"you'll\", \"you'd\", 'your', 'yours', 'yourself', 'yourselves', 'he', 'him', 'his', 'himself', \\\n",
    "                'she', \"she's\", 'her', 'hers', 'herself', 'it', \"it's\", 'its', 'itself', 'they', 'them', 'their',\\\n",
    "                'theirs', 'themselves', 'what', 'which', 'who', 'whom', 'this', 'that', \"that'll\", 'these', 'those', \\\n",
    "                'am', 'is', 'are', 'was', 'were', 'be', 'been', 'being', 'have', 'has', 'had', 'having', 'do', 'does', \\\n",
    "                'did', 'doing', 'a', 'an', 'the', 'and', 'but', 'if', 'or', 'because', 'as', 'until', 'while', 'of', \\\n",
    "                'at', 'by', 'for', 'with', 'about', 'against', 'between', 'into', 'through', 'during', 'before', 'after',\\\n",
    "                'above', 'below', 'to', 'from', 'up', 'down', 'in', 'out', 'on', 'off', 'over', 'under', 'again', 'further',\\\n",
    "                'then', 'once', 'here', 'there', 'when', 'where', 'why', 'how', 'all', 'any', 'both', 'each', 'few', 'more',\\\n",
    "                'most', 'other', 'some', 'such', 'only', 'own', 'same', 'so', 'than', 'too', 'very', \\\n",
    "                's', 't', 'can', 'will', 'just', 'don', \"don't\", 'should', \"should've\", 'now', 'd', 'll', 'm', 'o', 're', \\\n",
    "                've', 'y']\n",
    "\n",
    "    sent = decontract_text(sentance)\n",
    "    sent = sent.replace('\\r', ' ')\n",
    "    sent = sent.replace('\\n', ' ')\n",
    "    sent = sent.replace('\\\"', ' ')\n",
    "    sent = re.sub('[^A-Za-z0-9]+', ' ', sent)\n",
    "    # https://gist.github.com/sebleier/554280\n",
    "    sent = ' '.join(e for e in sent.split() if e.lower() not in stopwords)\n",
    "\n",
    "    root_sent = stem_sentence(sent.lower().strip())\n",
    "    return root_sent"
   ]
  },
  {
   "cell_type": "markdown",
   "id": "b4d47543-c697-41bc-a1c4-d03349995527",
   "metadata": {},
   "source": [
    "#### 3. Fill Missing Brand Names"
   ]
  },
  {
   "cell_type": "code",
   "execution_count": 8,
   "id": "3a7a0012-0ca2-4cbb-8aaf-059a1fe138ff",
   "metadata": {},
   "outputs": [],
   "source": [
    "def concat_categories(x):\n",
    "        return set(x.values)\n"
   ]
  },
  {
   "cell_type": "code",
   "execution_count": 9,
   "id": "80d6a073-19a2-4718-9001-12ed7418b4ca",
   "metadata": {},
   "outputs": [],
   "source": [
    "def save_brands_list(train_df):\n",
    "    existing_brands = train_df[train_df['brand_name'] != 'unk_brand']['brand_name'].unique()\n",
    "    with open('SavedVectors/brands_list.pkl', 'wb') as f:\n",
    "        pickle.dump(existing_brands, f)\n",
    "\n",
    "    brand_names_categories = dict(train_df[train_df['brand_name'] != 'unk_brand'][['brand_name','category_name']].astype('str').groupby('brand_name').agg(concat_categories).reset_index().values.tolist())\n",
    "    with open('SavedVectors/brand_names_categories_dict.pkl', 'wb') as f:\n",
    "        pickle.dump(brand_names_categories, f)\n",
    "\n",
    "X_train = fill_missing_values(X_train)\n",
    "save_brands_list(X_train)"
   ]
  },
  {
   "cell_type": "code",
   "execution_count": 10,
   "id": "958aaccb-334f-4bbd-b7f1-a91b4867c5b1",
   "metadata": {},
   "outputs": [],
   "source": [
    "with open('SavedVectors/brands_list.pkl', 'rb') as f:\n",
    "    existing_brands = pickle.load(f)\n",
    "    \n",
    "with open('SavedVectors/brand_names_categories_dict.pkl', 'rb') as f:\n",
    "    brand_names_categories = pickle.load(f)"
   ]
  },
  {
   "cell_type": "code",
   "execution_count": 11,
   "id": "6b670512-f395-48ab-9180-61d2e2904210",
   "metadata": {},
   "outputs": [],
   "source": [
    "def brand_guesser(row):\n",
    "    \"\"\"\n",
    "    Description:\n",
    "    This function is used to guess the missing brand name.\n",
    "    It will check for an existing brand name mentioned in the item name section. \n",
    "    We want our guess to be as close to actual as possible, \\\n",
    "    hence we will also check the category of the brand name that is guessed with the already mentioned category of that product. \n",
    "    If the category matches, then only we will fill that guessed brand name.\n",
    "\n",
    "    Inputs: dataframe row with missing brand names\n",
    "    Output: dataframe row with filled brand names\n",
    "    \"\"\"\n",
    "    # In the above line, we are creating dictionary of brand name->category, wherever the brand name is missing.\n",
    "    # This will be helpful to us during guessing the missing brand names.\n",
    "    brand, name, cn = row\n",
    "    brand = brand.lower()\n",
    "    if brand=='unk_brand':\n",
    "        for brand in existing_brands:\n",
    "            if brand in name.lower() and cn in brand_names_categories[brand]:\n",
    "                return brand\n",
    "            \n",
    "    return brand"
   ]
  },
  {
   "cell_type": "markdown",
   "id": "c1a66c57-73b3-4516-abff-f7b147c8ca79",
   "metadata": {},
   "source": [
    "#### 4. Split Categories"
   ]
  },
  {
   "cell_type": "code",
   "execution_count": 12,
   "id": "e7ede494-b6e7-45f2-8f09-45c29f289a61",
   "metadata": {},
   "outputs": [],
   "source": [
    "def split_text(text):\n",
    "    if text=='unk_cat':\n",
    "        return [\"No Label\", \"No Label\", \"No Label\"]\n",
    "    return text.split(\"/\")\n",
    "\n",
    "def split_categories(df):\n",
    "    \"\"\"\n",
    "    Desription:\n",
    "    This function separates the categories into its three parts. \n",
    "    Main category, Sub-category 1 and Sub-category 2\n",
    "    Then it will remove the original category_name field.\n",
    "\n",
    "    Input: Dataframe having category_name field\n",
    "    Output: Dataframe with splitted categories\n",
    "    \"\"\"\n",
    "    df['general_cat'], df['subcat_1'], df['subcat_2'] = zip(*df['category_name'].apply(lambda x: split_text(x)))\n",
    "    df = df.drop('category_name', axis=1)\n",
    "    return df"
   ]
  },
  {
   "cell_type": "markdown",
   "id": "1108785a-377b-4327-86c3-bf84e00eb990",
   "metadata": {},
   "source": [
    "#### 5. Adding Item Description len and Item Name len"
   ]
  },
  {
   "cell_type": "code",
   "execution_count": 13,
   "id": "052e187b-8df3-46ca-865f-b5687935e8ea",
   "metadata": {},
   "outputs": [],
   "source": [
    "from sklearn.preprocessing import StandardScaler\n",
    "def get_len_feature(col_series, scaler_text_len=None):\n",
    "    \"\"\"\n",
    "    Description:\n",
    "    This funciton will calculate the word count of the text and standardize it.\n",
    "\n",
    "    Input: Series, fitted scaler[optional; used during inference]\n",
    "    Output: standardized text length for each product and object of the fitted scaler\n",
    "    \"\"\"\n",
    "    text_len = col_series.apply(lambda x: len(x.split()))\n",
    "    if scaler_text_len==None:\n",
    "        scaler_text_len = StandardScaler()\n",
    "        scaler_text_len.fit(text_len.values.reshape(-1, 1))\n",
    "    text_len = scaler_text_len.transform(text_len.values.reshape(-1, 1))\n",
    "    return text_len, scaler_text_len"
   ]
  },
  {
   "cell_type": "markdown",
   "id": "01b5f14a-fd74-456d-bb0e-18bb9b95d45f",
   "metadata": {},
   "source": [
    "#### 6. Add is_expensive (sparse)"
   ]
  },
  {
   "cell_type": "code",
   "execution_count": 14,
   "id": "204e1c19-e5e6-4fdd-9825-985e4b4bd852",
   "metadata": {},
   "outputs": [],
   "source": [
    "def get_is_expensive_feature(df):\n",
    "    \"\"\"\n",
    "    Description:\n",
    "    This funciton will generate a feature which will tell if the brand is expensive or not.\n",
    "\n",
    "    Input: Dataframe\n",
    "    Output: Sparse is_expensive data\n",
    "    \"\"\"\n",
    "    with open('SavedVectors/expensive_brands.pkl', 'rb') as f:\n",
    "        expensive_brands = pickle.load(f)\n",
    "    \n",
    "    is_expensive_binary = df['brand_name'].apply(lambda x: 1 if x in expensive_brands else 0)\n",
    "    sparse_shipping = scipy.sparse.csr_matrix(is_expensive_binary.values)\n",
    "    sparse_shipping = sparse_shipping.reshape(-1,1) # Now the shape will be (1111901, 1)\n",
    "    return sparse_shipping"
   ]
  },
  {
   "cell_type": "markdown",
   "id": "f15e2521-54b3-40f0-9cb4-d7637afc53ea",
   "metadata": {},
   "source": [
    "#### 7. Make Shipping data sparse"
   ]
  },
  {
   "cell_type": "code",
   "execution_count": 15,
   "id": "6bfb88ca-5f53-4aa3-aaba-92ebae6cac7a",
   "metadata": {},
   "outputs": [],
   "source": [
    "def get_shipping_feature(df):\n",
    "    \"\"\"\n",
    "    Description:\n",
    "    This funciton will just get the shipping data in sparse form.\n",
    "\n",
    "    Input: Dataframe\n",
    "    Output: Sparse shipping data\n",
    "    \"\"\"\n",
    "    sparse_shipping = scipy.sparse.csr_matrix(df['shipping'].values)\n",
    "    sparse_shipping = sparse_shipping.reshape(-1,1) # Now the shape will be (1111901, 1)\n",
    "    return sparse_shipping"
   ]
  },
  {
   "cell_type": "markdown",
   "id": "3d324dec-f670-4739-ae8c-1f81a85af5ac",
   "metadata": {},
   "source": [
    "#### 8. Vectorizing data"
   ]
  },
  {
   "cell_type": "code",
   "execution_count": 16,
   "id": "468fc243-09ab-41c8-b65c-3fe3bf467bb4",
   "metadata": {},
   "outputs": [],
   "source": [
    "def vectorize_data(col_data, vectorizer=None):\n",
    "    \"\"\"\n",
    "    Description:\n",
    "    This funciton will vectorize the input column data.\n",
    "\n",
    "    Input: dataframe column\n",
    "    Output: one-hot encoded values and the fitted vectorizer\n",
    "    \"\"\"\n",
    "    if vectorizer==None:\n",
    "        vectorizer = TfidfVectorizer(ngram_range=(1,2), max_features=100000)\n",
    "        vectorizer.fit(col_data)\n",
    "    ohe_data = vectorizer.transform(col_data)\n",
    "    return ohe_data, vectorizer"
   ]
  },
  {
   "cell_type": "markdown",
   "id": "f5c818c5-bc57-4d14-87b8-89153f7bc114",
   "metadata": {},
   "source": [
    "### Feature Engineering pipeline"
   ]
  },
  {
   "cell_type": "code",
   "execution_count": 20,
   "id": "40a9e79b-0ee0-4202-88bc-0356519d1ec2",
   "metadata": {},
   "outputs": [],
   "source": [
    "def feature_pipeline(X_data, general_cat_vectorizer=None, subcat_1_vectorizer=None, subcat_2_vectorizer=None, brand_name_vectorizer=None, item_name_vectorizer=None, \n",
    "                     item_desc_vectorizer=None, scaler_name_len=None, scaler_desc_len=None):\n",
    "    \"\"\"\n",
    "    Description: This function will do all the feature engineering on the input X_data,\n",
    "                and create a final data, ready for training.\n",
    "\n",
    "    Input: Original input dataframe, \n",
    "                    the fitted vectorizers for all categorical and text columns [optional: used during inference],\n",
    "                    scalers [optional: used during inference]\n",
    "    Output: Featurized data\n",
    "    \"\"\"\n",
    "\n",
    "    print()\n",
    "    print(\"Filling missing values...\")\n",
    "    X_data = fill_missing_values(X_data)\n",
    "\n",
    "    print(\"pre-processing name text data...\")\n",
    "    X_data['item_description'] = X_data['item_description'].progress_apply(preprocess_descriptive_text_column)\n",
    "    X_data['name'] = X_data['name'].progress_apply(preprocess_descriptive_text_column)\n",
    "    X_data['brand_name'] = X_data['brand_name'].progress_apply(lambda x: str(x).lower())\n",
    "\n",
    "    print(\"Guessing the missing brands...\")\n",
    "    X_data['brand_name'] = X_data[['brand_name','name', 'category_name']].progress_apply(brand_guesser, axis = 1)\n",
    "\n",
    "    print(\"Splitting categories...\")\n",
    "    X_data = split_categories(X_data)\n",
    "\n",
    "    print('Getting word lengths')\n",
    "    name_len, scaler_name_len =  get_len_feature(X_data['name'], scaler_name_len)\n",
    "    desc_len, scaler_desc_len =  get_len_feature(X_data['item_description'], scaler_desc_len)\n",
    "\n",
    "    print(\"Getting is_expensive brand feature...\")\n",
    "    sparse_is_expensive = get_is_expensive_feature(X_data)\n",
    "\n",
    "    print(\"Getting sparse shipping data...\")\n",
    "    sparse_shipping = get_shipping_feature(X_data)\n",
    "\n",
    "    print(\"OHE vectorizing the text and categorical variables...\")\n",
    "    general_cat_ohe, general_cat_vectorizer = vectorize_data(X_data['general_cat'].values.astype('U'), general_cat_vectorizer)\n",
    "    subcat_1_ohe, subcat_1_vectorizer = vectorize_data(X_data['subcat_1'].values.astype('U'), subcat_1_vectorizer)\n",
    "    subcat_2_ohe, subcat_2_vectorizer = vectorize_data(X_data['subcat_2'].values.astype('U'), subcat_2_vectorizer)\n",
    "    brand_name_ohe, brand_name_vectorizer = vectorize_data(X_data['brand_name'].values.astype('U'), brand_name_vectorizer)\n",
    "    item_name_ohe, item_name_vectorizer = vectorize_data(X_data['name'].values.astype('U'), item_name_vectorizer)\n",
    "    item_desc_ohe, item_desc_vectorizer = vectorize_data(X_data['item_description'].values.astype('U'), item_desc_vectorizer)\n",
    "\n",
    "    print(\"Creating the final featurized dataset...\")\n",
    "    X_featurized = hstack((general_cat_ohe, subcat_1_ohe, subcat_2_ohe, brand_name_ohe, item_name_ohe, item_desc_ohe, \n",
    "                            desc_len, name_len, X_data['item_condition_id'].values.reshape(-1,1), sparse_shipping)).tocsr()\n",
    "\n",
    "    print(\"Done!!!\\n---------------------------\\n\")\n",
    "    return X_featurized, general_cat_vectorizer, subcat_1_vectorizer, subcat_2_vectorizer, brand_name_vectorizer, item_name_vectorizer, item_desc_vectorizer, scaler_name_len, scaler_desc_len\n",
    "     "
   ]
  },
  {
   "cell_type": "code",
   "execution_count": 21,
   "id": "91320496-985e-4c07-b0ed-4290f8f9b85f",
   "metadata": {},
   "outputs": [
    {
     "name": "stdout",
     "output_type": "stream",
     "text": [
      "\n",
      "Filling missing values...\n",
      "pre-processing name text data...\n"
     ]
    },
    {
     "data": {
      "application/vnd.jupyter.widget-view+json": {
       "model_id": "1f0fa5e4fa544ae3b30178616293c7fb",
       "version_major": 2,
       "version_minor": 0
      },
      "text/plain": [
       "  0%|          | 0/1157452 [00:00<?, ?it/s]"
      ]
     },
     "metadata": {},
     "output_type": "display_data"
    },
    {
     "data": {
      "application/vnd.jupyter.widget-view+json": {
       "model_id": "107a9b43c3194c1681549f88785fb3a4",
       "version_major": 2,
       "version_minor": 0
      },
      "text/plain": [
       "  0%|          | 0/1157452 [00:00<?, ?it/s]"
      ]
     },
     "metadata": {},
     "output_type": "display_data"
    },
    {
     "data": {
      "application/vnd.jupyter.widget-view+json": {
       "model_id": "3aabdbf44cb64d6994f470f5ba16da80",
       "version_major": 2,
       "version_minor": 0
      },
      "text/plain": [
       "  0%|          | 0/1157452 [00:00<?, ?it/s]"
      ]
     },
     "metadata": {},
     "output_type": "display_data"
    },
    {
     "name": "stdout",
     "output_type": "stream",
     "text": [
      "Guessing the missing brands...\n"
     ]
    },
    {
     "data": {
      "application/vnd.jupyter.widget-view+json": {
       "model_id": "226fcfbc0f414cd0812ba52f3e4207fc",
       "version_major": 2,
       "version_minor": 0
      },
      "text/plain": [
       "  0%|          | 0/1157452 [00:00<?, ?it/s]"
      ]
     },
     "metadata": {},
     "output_type": "display_data"
    },
    {
     "name": "stdout",
     "output_type": "stream",
     "text": [
      "Splitting categories...\n",
      "Getting word lengths\n",
      "Getting is_expensive brand feature...\n",
      "Getting sparse shipping data...\n",
      "OHE vectorizing the text and categorical variables...\n",
      "Creating the final featurized dataset...\n",
      "Done!!!\n",
      "---------------------------\n",
      "\n",
      "\n",
      "Filling missing values...\n",
      "pre-processing name text data...\n"
     ]
    },
    {
     "data": {
      "application/vnd.jupyter.widget-view+json": {
       "model_id": "e46b6ffae44240818e9ea93351ecec7d",
       "version_major": 2,
       "version_minor": 0
      },
      "text/plain": [
       "  0%|          | 0/289364 [00:00<?, ?it/s]"
      ]
     },
     "metadata": {},
     "output_type": "display_data"
    },
    {
     "data": {
      "application/vnd.jupyter.widget-view+json": {
       "model_id": "44df7d060a6f4d5aae2febd9dea74dc5",
       "version_major": 2,
       "version_minor": 0
      },
      "text/plain": [
       "  0%|          | 0/289364 [00:00<?, ?it/s]"
      ]
     },
     "metadata": {},
     "output_type": "display_data"
    },
    {
     "data": {
      "application/vnd.jupyter.widget-view+json": {
       "model_id": "fcbe7b2b91b84e1b95bddceeed1c2fdf",
       "version_major": 2,
       "version_minor": 0
      },
      "text/plain": [
       "  0%|          | 0/289364 [00:00<?, ?it/s]"
      ]
     },
     "metadata": {},
     "output_type": "display_data"
    },
    {
     "name": "stdout",
     "output_type": "stream",
     "text": [
      "Guessing the missing brands...\n"
     ]
    },
    {
     "data": {
      "application/vnd.jupyter.widget-view+json": {
       "model_id": "f676661ffed144ea9f96dcdb1245a256",
       "version_major": 2,
       "version_minor": 0
      },
      "text/plain": [
       "  0%|          | 0/289364 [00:00<?, ?it/s]"
      ]
     },
     "metadata": {},
     "output_type": "display_data"
    },
    {
     "name": "stdout",
     "output_type": "stream",
     "text": [
      "Splitting categories...\n",
      "Getting word lengths\n",
      "Getting is_expensive brand feature...\n",
      "Getting sparse shipping data...\n",
      "OHE vectorizing the text and categorical variables...\n",
      "Creating the final featurized dataset...\n",
      "Done!!!\n",
      "---------------------------\n",
      "\n"
     ]
    }
   ],
   "source": [
    "X_tr, general_cat_vectorizer, subcat_1_vectorizer, subcat_2_vectorizer, brand_name_vectorizer, item_name_vectorizer, item_desc_vectorizer, scaler_name_len, scaler_desc_len = feature_pipeline(X_train)\n",
    "\n",
    "X_te, _, _, _, _, _, _, _, _ = feature_pipeline(X_test, general_cat_vectorizer, subcat_1_vectorizer, subcat_2_vectorizer, \n",
    "                                                brand_name_vectorizer, item_name_vectorizer, item_desc_vectorizer, \n",
    "                                                scaler_name_len, scaler_desc_len)"
   ]
  },
  {
   "cell_type": "code",
   "execution_count": 22,
   "id": "1979e2d6-ffbb-44c1-a023-00cc05ac4a3f",
   "metadata": {},
   "outputs": [],
   "source": [
    "scipy.sparse.save_npz(\"SavedVectors/x_train_OHE_wo_binary_brand.npz\", X_tr)\n",
    "scipy.sparse.save_npz(\"SavedVectors/x_test_OHE_wo_binary_brand.npz\", X_te)\n",
    "     "
   ]
  },
  {
   "cell_type": "code",
   "execution_count": 24,
   "id": "3bf4ce89-e713-414c-b383-3f67bba76746",
   "metadata": {},
   "outputs": [
    {
     "data": {
      "text/plain": [
       "<1157452x209104 sparse matrix of type '<class 'numpy.float64'>'\n",
       "\twith 48488847 stored elements in Compressed Sparse Row format>"
      ]
     },
     "execution_count": 24,
     "metadata": {},
     "output_type": "execute_result"
    }
   ],
   "source": [
    "X_tr"
   ]
  },
  {
   "cell_type": "markdown",
   "id": "c86a9dc4-1f0f-486a-a2af-12275aa64c12",
   "metadata": {},
   "source": [
    "### Simple MLP"
   ]
  },
  {
   "cell_type": "code",
   "execution_count": 25,
   "id": "aecdd96d-8a5a-4d3d-b3b8-3b76d2d63839",
   "metadata": {},
   "outputs": [
    {
     "name": "stdout",
     "output_type": "stream",
     "text": [
      "WARNING:tensorflow:From C:\\Users\\iabhi\\anaconda3\\envs\\Machine_learning\\lib\\site-packages\\keras\\src\\losses.py:2976: The name tf.losses.sparse_softmax_cross_entropy is deprecated. Please use tf.compat.v1.losses.sparse_softmax_cross_entropy instead.\n",
      "\n"
     ]
    }
   ],
   "source": [
    "from sklearn.preprocessing import Normalizer\n",
    "import tensorflow as tf\n",
    "from numpy import array\n",
    "from numpy import asarray\n",
    "from numpy import zeros\n",
    "from tensorflow.keras.preprocessing.text import Tokenizer\n",
    "from tensorflow.keras.preprocessing.sequence import pad_sequences\n",
    "from sklearn.preprocessing import LabelEncoder\n",
    "import tensorflow.keras as ks\n",
    "from tensorflow.keras.layers import Input, Embedding, Conv1D, MaxPool1D, Flatten, Dropout, Dense, BatchNormalization, Concatenate\n",
    "from tensorflow.keras.layers import ReLU\n",
    "from tensorflow.keras.layers import LeakyReLU\n",
    "from tensorflow.keras.models import Model\n",
    "from tensorflow.keras import initializers, regularizers\n",
    "from tensorflow.keras.optimizers import Adam\n",
    "from tensorflow.keras.layers import LSTM"
   ]
  },
  {
   "cell_type": "markdown",
   "id": "144a7887-66c2-45cb-b8ff-66cedd47bf81",
   "metadata": {},
   "source": [
    "X_tr = scipy.sparse.load_npz(\"/content/drive/My Drive/Colab Notebooks/Applied AI Assignments/Case Study 1 Mercari Price Suggestion/DL_data/X_tr_simple_MLP.npz\")\n",
    "X_te = scipy.sparse.load_npz(\"/content/drive/My Drive/Colab Notebooks/Applied AI Assignments/Case Study 1 Mercari Price Suggestion/DL_data/X_te_simple_MLP.npz\")\n",
    "     "
   ]
  },
  {
   "cell_type": "code",
   "execution_count": 26,
   "id": "18449753-ca61-4027-9214-7382b582fd85",
   "metadata": {},
   "outputs": [],
   "source": [
    "def create_simple_mlp_model(input_shape):   #input_shape=X_train.shape[1]\n",
    "    model_in = Input(shape=(input_shape,), dtype='float32', sparse=True)\n",
    "    out = Dense(192, activation='relu', kernel_regularizer=regularizers.l2(0.001))(model_in)\n",
    "    out = Dropout(0.10)(out)\n",
    "    out = Dense(128, activation='relu',  kernel_regularizer=regularizers.l1(0.0001))(out)\n",
    "    #out = BatchNormalization()(out)\n",
    "    out = Dense(64, activation='relu')(out)\n",
    "    out = Dense(1)(out)\n",
    "    model = Model(model_in, out)\n",
    "    return model"
   ]
  },
  {
   "cell_type": "code",
   "execution_count": 27,
   "id": "1c3c2819-274b-459d-8a14-902bdfc9615d",
   "metadata": {},
   "outputs": [
    {
     "name": "stdout",
     "output_type": "stream",
     "text": [
      "WARNING:tensorflow:From C:\\Users\\iabhi\\anaconda3\\envs\\Machine_learning\\lib\\site-packages\\keras\\src\\backend.py:1398: The name tf.executing_eagerly_outside_functions is deprecated. Please use tf.compat.v1.executing_eagerly_outside_functions instead.\n",
      "\n",
      "Model: \"model\"\n",
      "_________________________________________________________________\n",
      " Layer (type)                Output Shape              Param #   \n",
      "=================================================================\n",
      " input_1 (InputLayer)        [(None, 209104)]          0         \n",
      "                                                                 \n",
      " dense (Dense)               (None, 192)               40148160  \n",
      "                                                                 \n",
      " dropout (Dropout)           (None, 192)               0         \n",
      "                                                                 \n",
      " dense_1 (Dense)             (None, 128)               24704     \n",
      "                                                                 \n",
      " dense_2 (Dense)             (None, 64)                8256      \n",
      "                                                                 \n",
      " dense_3 (Dense)             (None, 1)                 65        \n",
      "                                                                 \n",
      "=================================================================\n",
      "Total params: 40181185 (153.28 MB)\n",
      "Trainable params: 40181185 (153.28 MB)\n",
      "Non-trainable params: 0 (0.00 Byte)\n",
      "_________________________________________________________________\n"
     ]
    }
   ],
   "source": [
    "simple_model = create_simple_mlp_model(X_tr.shape[1])\n",
    "simple_model.summary()"
   ]
  },
  {
   "cell_type": "code",
   "execution_count": 28,
   "id": "5e1e8483-41f3-4cbb-ad82-71cba6c08bfe",
   "metadata": {},
   "outputs": [],
   "source": [
    "y_train = np.asarray(y_train)\n",
    "y_test = np.asarray(y_test)"
   ]
  },
  {
   "cell_type": "code",
   "execution_count": 29,
   "id": "95e0cb93-ea2c-4e12-945c-e7eef1035397",
   "metadata": {},
   "outputs": [],
   "source": [
    "from tensorflow.keras.callbacks import ModelCheckpoint\n",
    "model_path = \"Model_MLP_Checkpoints/BEST_MODEL.hdfs\"\n",
    "checkpoint_best = ModelCheckpoint(filepath=model_path, monitor='val_loss',verbose=1, save_best_only=True, mode='min')"
   ]
  },
  {
   "cell_type": "code",
   "execution_count": 30,
   "id": "a3d6bb3d-4c9d-4cda-a86f-6e1ffb96748e",
   "metadata": {},
   "outputs": [],
   "source": [
    "from tensorflow.keras.callbacks import ReduceLROnPlateau\n",
    "# https://stackoverflow.com/a/42963385/7697658\n",
    "lrschedule_1 = ReduceLROnPlateau(monitor='val_loss', patience=2, verbose=1, factor=0.70, mode='min')"
   ]
  },
  {
   "cell_type": "code",
   "execution_count": 31,
   "id": "29082121-01da-4c28-88ca-a443cac6977a",
   "metadata": {},
   "outputs": [
    {
     "name": "stderr",
     "output_type": "stream",
     "text": [
      "WARNING:absl:`lr` is deprecated in Keras optimizer, please use `learning_rate` or use the legacy optimizer, e.g.,tf.keras.optimizers.legacy.Adam.\n"
     ]
    },
    {
     "name": "stdout",
     "output_type": "stream",
     "text": [
      "Epoch 1/20\n",
      "WARNING:tensorflow:From C:\\Users\\iabhi\\anaconda3\\envs\\Machine_learning\\lib\\site-packages\\keras\\src\\utils\\tf_utils.py:492: The name tf.ragged.RaggedTensorValue is deprecated. Please use tf.compat.v1.ragged.RaggedTensorValue instead.\n",
      "\n"
     ]
    },
    {
     "name": "stderr",
     "output_type": "stream",
     "text": [
      "WARNING:tensorflow:From C:\\Users\\iabhi\\anaconda3\\envs\\Machine_learning\\lib\\site-packages\\keras\\src\\utils\\tf_utils.py:492: The name tf.ragged.RaggedTensorValue is deprecated. Please use tf.compat.v1.ragged.RaggedTensorValue instead.\n",
      "\n"
     ]
    },
    {
     "name": "stdout",
     "output_type": "stream",
     "text": [
      " 406/6029 [=>............................] - ETA: 55:24 - loss: 0.8706 - root_mean_squared_error: 0.7990"
     ]
    },
    {
     "name": "stderr",
     "output_type": "stream",
     "text": [
      "\n",
      "KeyboardInterrupt\n",
      "\n"
     ]
    }
   ],
   "source": [
    "simple_model.compile(loss='mse', optimizer=ks.optimizers.Adam(lr=0.0003), metrics=[tf.keras.metrics.RootMeanSquaredError()])\n",
    "simple_model.fit(x=X_tr, y=y_train, batch_size=192, epochs=20, verbose=True, validation_data=(X_te, y_test),\n",
    "                 callbacks=[checkpoint_best, lrschedule_1])"
   ]
  },
  {
   "cell_type": "code",
   "execution_count": null,
   "id": "eb42018c-5db8-4f32-a375-c825b4285cf7",
   "metadata": {},
   "outputs": [],
   "source": [
    "def evaluate_dl_model(model, X_data, y_act):\n",
    "    y_pred = model.predict(X_data)\n",
    "\n",
    "    act_prices = np.exp(y_act)\n",
    "    pred_prices = np.exp(y_pred)\n",
    "\n",
    "    rms = np.sqrt(mean_squared_log_error(act_prices, pred_prices))\n",
    "    return rms"
   ]
  },
  {
   "cell_type": "code",
   "execution_count": null,
   "id": "75bbc40b-b69f-40cf-99e7-bad36ed78070",
   "metadata": {},
   "outputs": [],
   "source": [
    "rms_error=evaluate_dl_model(simple_model, X_te, y_test)\n",
    "print(rms_error)"
   ]
  }
 ],
 "metadata": {
  "kernelspec": {
   "display_name": "Python 3 (ipykernel)",
   "language": "python",
   "name": "python3"
  },
  "language_info": {
   "codemirror_mode": {
    "name": "ipython",
    "version": 3
   },
   "file_extension": ".py",
   "mimetype": "text/x-python",
   "name": "python",
   "nbconvert_exporter": "python",
   "pygments_lexer": "ipython3",
   "version": "3.9.18"
  }
 },
 "nbformat": 4,
 "nbformat_minor": 5
}
